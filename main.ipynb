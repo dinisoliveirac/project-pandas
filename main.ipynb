{
 "cells": [
  {
   "cell_type": "markdown",
   "metadata": {},
   "source": [
    "## Before your start:\n",
    "\n",
    "- Read the README.md file\n",
    "- Follow each step as described in the instructions and take notes of the issues you find along the way\n",
    "- Happy learning!"
   ]
  },
  {
   "cell_type": "code",
   "execution_count": 1,
   "metadata": {},
   "outputs": [],
   "source": [
    "# Start by importing the table and the necessary libraries.\n",
    "\n",
    "import pandas as pd\n",
    "import numpy as np\n",
    "import re"
   ]
  },
  {
   "cell_type": "markdown",
   "metadata": {},
   "source": [
    "# Data Cleaning Code-Along\n",
    "\n",
    "In this notebook we will be working on [Shark Attack](https://www.kaggle.com/teajay/global-shark-attacks/version/1) - a table of shark attack incidents compiled by the Global Shark Attack File. You will need to use your data wrangling skills to clean it up, prepare it to be analyzed, and then export it as a clean CSV data file."
   ]
  },
  {
   "cell_type": "markdown",
   "metadata": {},
   "source": [
    "## Step 1 - `INSPECTION`\n",
    "\n",
    "\n",
    "### 1.1 Collect the data\n",
    "- Read csv file into a pandas dataframe\n",
    "- Take a look at the its **shape** and **features** by checking the first few rows and check the total missing values "
   ]
  },
  {
   "cell_type": "code",
   "execution_count": 2,
   "metadata": {},
   "outputs": [],
   "source": [
    "sharks = pd.read_csv('sharks_original.csv', engine='python')"
   ]
  },
  {
   "cell_type": "code",
   "execution_count": 3,
   "metadata": {},
   "outputs": [
    {
     "data": {
      "text/plain": [
       "(5992, 24)"
      ]
     },
     "execution_count": 3,
     "metadata": {},
     "output_type": "execute_result"
    }
   ],
   "source": [
    "sharks.shape"
   ]
  },
  {
   "cell_type": "code",
   "execution_count": 4,
   "metadata": {},
   "outputs": [
    {
     "name": "stdout",
     "output_type": "stream",
     "text": [
      "<class 'pandas.core.frame.DataFrame'>\n",
      "RangeIndex: 5992 entries, 0 to 5991\n",
      "Data columns (total 24 columns):\n",
      "Case Number               5992 non-null object\n",
      "Date                      5992 non-null object\n",
      "Year                      5992 non-null int64\n",
      "Type                      5992 non-null object\n",
      "Country                   5949 non-null object\n",
      "Area                      5590 non-null object\n",
      "Location                  5496 non-null object\n",
      "Activity                  5465 non-null object\n",
      "Name                      5792 non-null object\n",
      "Sex                       5425 non-null object\n",
      "Age                       3311 non-null object\n",
      "Injury                    5965 non-null object\n",
      "Fatal (Y/N)               5973 non-null object\n",
      "Time                      2779 non-null object\n",
      "Species                   3058 non-null object\n",
      "Investigator or Source    5977 non-null object\n",
      "pdf                       5992 non-null object\n",
      "href formula              5991 non-null object\n",
      "href                      5989 non-null object\n",
      "Case Number.1             5992 non-null object\n",
      "Case Number.2             5992 non-null object\n",
      "original order            5992 non-null int64\n",
      "Unnamed: 22               1 non-null object\n",
      "Unnamed: 23               2 non-null object\n",
      "dtypes: int64(2), object(22)\n",
      "memory usage: 1.1+ MB\n"
     ]
    }
   ],
   "source": [
    "sharks.info()"
   ]
  },
  {
   "cell_type": "markdown",
   "metadata": {},
   "source": [
    "### 1.2 Take a look at the shape and features of the DataFrame \n",
    "\n",
    "Now that we now about its content, in order to get an idea of the table, we can print a sample of it!\n",
    "\n",
    "**Tip**: Try setting no limit for the maximum number of rows and columns displayed when a frame is printed"
   ]
  },
  {
   "cell_type": "code",
   "execution_count": 5,
   "metadata": {},
   "outputs": [],
   "source": [
    "pd.options.display.max_columns = None "
   ]
  },
  {
   "cell_type": "code",
   "execution_count": 6,
   "metadata": {},
   "outputs": [
    {
     "data": {
      "text/html": [
       "<div>\n",
       "<style scoped>\n",
       "    .dataframe tbody tr th:only-of-type {\n",
       "        vertical-align: middle;\n",
       "    }\n",
       "\n",
       "    .dataframe tbody tr th {\n",
       "        vertical-align: top;\n",
       "    }\n",
       "\n",
       "    .dataframe thead th {\n",
       "        text-align: right;\n",
       "    }\n",
       "</style>\n",
       "<table border=\"1\" class=\"dataframe\">\n",
       "  <thead>\n",
       "    <tr style=\"text-align: right;\">\n",
       "      <th></th>\n",
       "      <th>Case Number</th>\n",
       "      <th>Date</th>\n",
       "      <th>Year</th>\n",
       "      <th>Type</th>\n",
       "      <th>Country</th>\n",
       "      <th>Area</th>\n",
       "      <th>Location</th>\n",
       "      <th>Activity</th>\n",
       "      <th>Name</th>\n",
       "      <th>Sex</th>\n",
       "      <th>Age</th>\n",
       "      <th>Injury</th>\n",
       "      <th>Fatal (Y/N)</th>\n",
       "      <th>Time</th>\n",
       "      <th>Species</th>\n",
       "      <th>Investigator or Source</th>\n",
       "      <th>pdf</th>\n",
       "      <th>href formula</th>\n",
       "      <th>href</th>\n",
       "      <th>Case Number.1</th>\n",
       "      <th>Case Number.2</th>\n",
       "      <th>original order</th>\n",
       "      <th>Unnamed: 22</th>\n",
       "      <th>Unnamed: 23</th>\n",
       "    </tr>\n",
       "  </thead>\n",
       "  <tbody>\n",
       "    <tr>\n",
       "      <th>0</th>\n",
       "      <td>2016.09.18.c</td>\n",
       "      <td>18-Sep-16</td>\n",
       "      <td>2016</td>\n",
       "      <td>Unprovoked</td>\n",
       "      <td>USA</td>\n",
       "      <td>Florida</td>\n",
       "      <td>New Smyrna Beach, Volusia County</td>\n",
       "      <td>Surfing</td>\n",
       "      <td>male</td>\n",
       "      <td>M</td>\n",
       "      <td>16</td>\n",
       "      <td>Minor injury to thigh</td>\n",
       "      <td>N</td>\n",
       "      <td>13h00</td>\n",
       "      <td>NaN</td>\n",
       "      <td>Orlando Sentinel, 9/19/2016</td>\n",
       "      <td>2016.09.18.c-NSB.pdf</td>\n",
       "      <td>http://sharkattackfile.net/spreadsheets/pdf_di...</td>\n",
       "      <td>http://sharkattackfile.net/spreadsheets/pdf_di...</td>\n",
       "      <td>2016.09.18.c</td>\n",
       "      <td>2016.09.18.c</td>\n",
       "      <td>5993</td>\n",
       "      <td>NaN</td>\n",
       "      <td>NaN</td>\n",
       "    </tr>\n",
       "    <tr>\n",
       "      <th>1</th>\n",
       "      <td>2016.09.18.b</td>\n",
       "      <td>18-Sep-16</td>\n",
       "      <td>2016</td>\n",
       "      <td>Unprovoked</td>\n",
       "      <td>USA</td>\n",
       "      <td>Florida</td>\n",
       "      <td>New Smyrna Beach, Volusia County</td>\n",
       "      <td>Surfing</td>\n",
       "      <td>Chucky Luciano</td>\n",
       "      <td>M</td>\n",
       "      <td>36</td>\n",
       "      <td>Lacerations to hands</td>\n",
       "      <td>N</td>\n",
       "      <td>11h00</td>\n",
       "      <td>NaN</td>\n",
       "      <td>Orlando Sentinel, 9/19/2016</td>\n",
       "      <td>2016.09.18.b-Luciano.pdf</td>\n",
       "      <td>http://sharkattackfile.net/spreadsheets/pdf_di...</td>\n",
       "      <td>http://sharkattackfile.net/spreadsheets/pdf_di...</td>\n",
       "      <td>2016.09.18.b</td>\n",
       "      <td>2016.09.18.b</td>\n",
       "      <td>5992</td>\n",
       "      <td>NaN</td>\n",
       "      <td>NaN</td>\n",
       "    </tr>\n",
       "    <tr>\n",
       "      <th>2</th>\n",
       "      <td>2016.09.18.a</td>\n",
       "      <td>18-Sep-16</td>\n",
       "      <td>2016</td>\n",
       "      <td>Unprovoked</td>\n",
       "      <td>USA</td>\n",
       "      <td>Florida</td>\n",
       "      <td>New Smyrna Beach, Volusia County</td>\n",
       "      <td>Surfing</td>\n",
       "      <td>male</td>\n",
       "      <td>M</td>\n",
       "      <td>43</td>\n",
       "      <td>Lacerations to lower leg</td>\n",
       "      <td>N</td>\n",
       "      <td>10h43</td>\n",
       "      <td>NaN</td>\n",
       "      <td>Orlando Sentinel, 9/19/2016</td>\n",
       "      <td>2016.09.18.a-NSB.pdf</td>\n",
       "      <td>http://sharkattackfile.net/spreadsheets/pdf_di...</td>\n",
       "      <td>http://sharkattackfile.net/spreadsheets/pdf_di...</td>\n",
       "      <td>2016.09.18.a</td>\n",
       "      <td>2016.09.18.a</td>\n",
       "      <td>5991</td>\n",
       "      <td>NaN</td>\n",
       "      <td>NaN</td>\n",
       "    </tr>\n",
       "    <tr>\n",
       "      <th>3</th>\n",
       "      <td>2016.09.17</td>\n",
       "      <td>17-Sep-16</td>\n",
       "      <td>2016</td>\n",
       "      <td>Unprovoked</td>\n",
       "      <td>AUSTRALIA</td>\n",
       "      <td>Victoria</td>\n",
       "      <td>Thirteenth Beach</td>\n",
       "      <td>Surfing</td>\n",
       "      <td>Rory Angiolella</td>\n",
       "      <td>M</td>\n",
       "      <td>NaN</td>\n",
       "      <td>Struck by fin on chest &amp; leg</td>\n",
       "      <td>N</td>\n",
       "      <td>NaN</td>\n",
       "      <td>NaN</td>\n",
       "      <td>The Age, 9/18/2016</td>\n",
       "      <td>2016.09.17-Angiolella.pdf</td>\n",
       "      <td>http://sharkattackfile.net/spreadsheets/pdf_di...</td>\n",
       "      <td>http://sharkattackfile.net/spreadsheets/pdf_di...</td>\n",
       "      <td>2016.09.17</td>\n",
       "      <td>2016.09.17</td>\n",
       "      <td>5990</td>\n",
       "      <td>NaN</td>\n",
       "      <td>NaN</td>\n",
       "    </tr>\n",
       "    <tr>\n",
       "      <th>4</th>\n",
       "      <td>2016.09.15</td>\n",
       "      <td>16-Sep-16</td>\n",
       "      <td>2016</td>\n",
       "      <td>Unprovoked</td>\n",
       "      <td>AUSTRALIA</td>\n",
       "      <td>Victoria</td>\n",
       "      <td>Bells Beach</td>\n",
       "      <td>Surfing</td>\n",
       "      <td>male</td>\n",
       "      <td>M</td>\n",
       "      <td>NaN</td>\n",
       "      <td>No injury: Knocked off board by shark</td>\n",
       "      <td>N</td>\n",
       "      <td>NaN</td>\n",
       "      <td>2 m shark</td>\n",
       "      <td>The Age, 9/16/2016</td>\n",
       "      <td>2016.09.16-BellsBeach.pdf</td>\n",
       "      <td>http://sharkattackfile.net/spreadsheets/pdf_di...</td>\n",
       "      <td>http://sharkattackfile.net/spreadsheets/pdf_di...</td>\n",
       "      <td>2016.09.16</td>\n",
       "      <td>2016.09.15</td>\n",
       "      <td>5989</td>\n",
       "      <td>NaN</td>\n",
       "      <td>NaN</td>\n",
       "    </tr>\n",
       "  </tbody>\n",
       "</table>\n",
       "</div>"
      ],
      "text/plain": [
       "    Case Number       Date  Year        Type    Country      Area  \\\n",
       "0  2016.09.18.c  18-Sep-16  2016  Unprovoked        USA   Florida   \n",
       "1  2016.09.18.b  18-Sep-16  2016  Unprovoked        USA   Florida   \n",
       "2  2016.09.18.a  18-Sep-16  2016  Unprovoked        USA   Florida   \n",
       "3    2016.09.17  17-Sep-16  2016  Unprovoked  AUSTRALIA  Victoria   \n",
       "4    2016.09.15  16-Sep-16  2016  Unprovoked  AUSTRALIA  Victoria   \n",
       "\n",
       "                           Location Activity             Name Sex   Age  \\\n",
       "0  New Smyrna Beach, Volusia County  Surfing             male    M   16   \n",
       "1  New Smyrna Beach, Volusia County  Surfing   Chucky Luciano    M   36   \n",
       "2  New Smyrna Beach, Volusia County  Surfing             male    M   43   \n",
       "3                  Thirteenth Beach  Surfing  Rory Angiolella    M  NaN   \n",
       "4                       Bells Beach  Surfing             male    M  NaN   \n",
       "\n",
       "                                  Injury Fatal (Y/N)   Time   Species   \\\n",
       "0                  Minor injury to thigh           N  13h00        NaN   \n",
       "1                   Lacerations to hands           N  11h00        NaN   \n",
       "2               Lacerations to lower leg           N  10h43        NaN   \n",
       "3           Struck by fin on chest & leg           N    NaN        NaN   \n",
       "4  No injury: Knocked off board by shark           N    NaN  2 m shark   \n",
       "\n",
       "        Investigator or Source                        pdf  \\\n",
       "0  Orlando Sentinel, 9/19/2016       2016.09.18.c-NSB.pdf   \n",
       "1  Orlando Sentinel, 9/19/2016   2016.09.18.b-Luciano.pdf   \n",
       "2  Orlando Sentinel, 9/19/2016       2016.09.18.a-NSB.pdf   \n",
       "3           The Age, 9/18/2016  2016.09.17-Angiolella.pdf   \n",
       "4           The Age, 9/16/2016  2016.09.16-BellsBeach.pdf   \n",
       "\n",
       "                                        href formula  \\\n",
       "0  http://sharkattackfile.net/spreadsheets/pdf_di...   \n",
       "1  http://sharkattackfile.net/spreadsheets/pdf_di...   \n",
       "2  http://sharkattackfile.net/spreadsheets/pdf_di...   \n",
       "3  http://sharkattackfile.net/spreadsheets/pdf_di...   \n",
       "4  http://sharkattackfile.net/spreadsheets/pdf_di...   \n",
       "\n",
       "                                                href Case Number.1  \\\n",
       "0  http://sharkattackfile.net/spreadsheets/pdf_di...  2016.09.18.c   \n",
       "1  http://sharkattackfile.net/spreadsheets/pdf_di...  2016.09.18.b   \n",
       "2  http://sharkattackfile.net/spreadsheets/pdf_di...  2016.09.18.a   \n",
       "3  http://sharkattackfile.net/spreadsheets/pdf_di...    2016.09.17   \n",
       "4  http://sharkattackfile.net/spreadsheets/pdf_di...    2016.09.16   \n",
       "\n",
       "  Case Number.2  original order Unnamed: 22 Unnamed: 23  \n",
       "0  2016.09.18.c            5993         NaN         NaN  \n",
       "1  2016.09.18.b            5992         NaN         NaN  \n",
       "2  2016.09.18.a            5991         NaN         NaN  \n",
       "3    2016.09.17            5990         NaN         NaN  \n",
       "4    2016.09.15            5989         NaN         NaN  "
      ]
     },
     "execution_count": 6,
     "metadata": {},
     "output_type": "execute_result"
    }
   ],
   "source": [
    "sharks.head()"
   ]
  },
  {
   "cell_type": "markdown",
   "metadata": {},
   "source": [
    "Examine the dataframe for potential issues: `unexpected`, `incorrect`, or `inconsistent` \n",
    "\n",
    "- `Unexpected`: href formula, Unnamed 23, Unnamed 23\n",
    "- `Incorrect`: 'Name': 'male'\n",
    "- `Inconsistent`: 'Species': '2 m shark'\n",
    "\n",
    "\n",
    "Some examples of issues are:\n",
    "- Data entry errors in multiple columns and/or column names\n",
    "- Few columns with irrelevant information \n",
    "- Columns with many different values \n",
    "- Columns with NaN values\n"
   ]
  },
  {
   "cell_type": "markdown",
   "metadata": {},
   "source": [
    "### 1.3 Check for null values across all columns in the table\n",
    "\n",
    "The columns with the highest amount of null values are the ones we should tackle first. Try to understand if they can be useful if cleaned."
   ]
  },
  {
   "cell_type": "code",
   "execution_count": 7,
   "metadata": {},
   "outputs": [
    {
     "data": {
      "text/plain": [
       "Case Number                  0\n",
       "Date                         0\n",
       "Year                         0\n",
       "Type                         0\n",
       "Country                     43\n",
       "Area                       402\n",
       "Location                   496\n",
       "Activity                   527\n",
       "Name                       200\n",
       "Sex                        567\n",
       "Age                       2681\n",
       "Injury                      27\n",
       "Fatal (Y/N)                 19\n",
       "Time                      3213\n",
       "Species                   2934\n",
       "Investigator or Source      15\n",
       "pdf                          0\n",
       "href formula                 1\n",
       "href                         3\n",
       "Case Number.1                0\n",
       "Case Number.2                0\n",
       "original order               0\n",
       "Unnamed: 22               5991\n",
       "Unnamed: 23               5990\n",
       "dtype: int64"
      ]
     },
     "execution_count": 7,
     "metadata": {},
     "output_type": "execute_result"
    }
   ],
   "source": [
    "null_sum = sharks.isnull().sum()\n",
    "null_sum"
   ]
  },
  {
   "cell_type": "code",
   "execution_count": 8,
   "metadata": {},
   "outputs": [],
   "source": [
    "def percent_NA(data):\n",
    "    \n",
    "    '''\n",
    "    Returns a new dataframe including the total number of NA values and \n",
    "    the percentage of NA values in each column.\n",
    "    '''\n",
    "    \n",
    "    null_sum = data.isnull().sum() \n",
    "    total = null_sum.sort_values(ascending=False)\n",
    "    percent = (((null_sum / len(data.index))*100)).sort_values(ascending=False)\n",
    "    \n",
    "    # create the dataframe by concatenating through the columns \n",
    "    df_NA = pd.concat([total, percent], axis=1, keys=['Number of NA', 'Percent of NA'])\n",
    "    \n",
    "    return df_NA"
   ]
  },
  {
   "cell_type": "code",
   "execution_count": 9,
   "metadata": {},
   "outputs": [
    {
     "data": {
      "text/html": [
       "<div>\n",
       "<style scoped>\n",
       "    .dataframe tbody tr th:only-of-type {\n",
       "        vertical-align: middle;\n",
       "    }\n",
       "\n",
       "    .dataframe tbody tr th {\n",
       "        vertical-align: top;\n",
       "    }\n",
       "\n",
       "    .dataframe thead th {\n",
       "        text-align: right;\n",
       "    }\n",
       "</style>\n",
       "<table border=\"1\" class=\"dataframe\">\n",
       "  <thead>\n",
       "    <tr style=\"text-align: right;\">\n",
       "      <th></th>\n",
       "      <th>Number of NA</th>\n",
       "      <th>Percent of NA</th>\n",
       "    </tr>\n",
       "  </thead>\n",
       "  <tbody>\n",
       "    <tr>\n",
       "      <th>Unnamed: 22</th>\n",
       "      <td>5991</td>\n",
       "      <td>99.983311</td>\n",
       "    </tr>\n",
       "    <tr>\n",
       "      <th>Unnamed: 23</th>\n",
       "      <td>5990</td>\n",
       "      <td>99.966622</td>\n",
       "    </tr>\n",
       "    <tr>\n",
       "      <th>Time</th>\n",
       "      <td>3213</td>\n",
       "      <td>53.621495</td>\n",
       "    </tr>\n",
       "    <tr>\n",
       "      <th>Species</th>\n",
       "      <td>2934</td>\n",
       "      <td>48.965287</td>\n",
       "    </tr>\n",
       "    <tr>\n",
       "      <th>Age</th>\n",
       "      <td>2681</td>\n",
       "      <td>44.742991</td>\n",
       "    </tr>\n",
       "    <tr>\n",
       "      <th>Sex</th>\n",
       "      <td>567</td>\n",
       "      <td>9.462617</td>\n",
       "    </tr>\n",
       "    <tr>\n",
       "      <th>Activity</th>\n",
       "      <td>527</td>\n",
       "      <td>8.795060</td>\n",
       "    </tr>\n",
       "    <tr>\n",
       "      <th>Location</th>\n",
       "      <td>496</td>\n",
       "      <td>8.277704</td>\n",
       "    </tr>\n",
       "    <tr>\n",
       "      <th>Area</th>\n",
       "      <td>402</td>\n",
       "      <td>6.708945</td>\n",
       "    </tr>\n",
       "    <tr>\n",
       "      <th>Name</th>\n",
       "      <td>200</td>\n",
       "      <td>3.337784</td>\n",
       "    </tr>\n",
       "    <tr>\n",
       "      <th>Country</th>\n",
       "      <td>43</td>\n",
       "      <td>0.717623</td>\n",
       "    </tr>\n",
       "    <tr>\n",
       "      <th>Injury</th>\n",
       "      <td>27</td>\n",
       "      <td>0.450601</td>\n",
       "    </tr>\n",
       "    <tr>\n",
       "      <th>Fatal (Y/N)</th>\n",
       "      <td>19</td>\n",
       "      <td>0.317089</td>\n",
       "    </tr>\n",
       "    <tr>\n",
       "      <th>Investigator or Source</th>\n",
       "      <td>15</td>\n",
       "      <td>0.250334</td>\n",
       "    </tr>\n",
       "    <tr>\n",
       "      <th>href</th>\n",
       "      <td>3</td>\n",
       "      <td>0.050067</td>\n",
       "    </tr>\n",
       "    <tr>\n",
       "      <th>href formula</th>\n",
       "      <td>1</td>\n",
       "      <td>0.016689</td>\n",
       "    </tr>\n",
       "    <tr>\n",
       "      <th>pdf</th>\n",
       "      <td>0</td>\n",
       "      <td>0.000000</td>\n",
       "    </tr>\n",
       "    <tr>\n",
       "      <th>Case Number.1</th>\n",
       "      <td>0</td>\n",
       "      <td>0.000000</td>\n",
       "    </tr>\n",
       "    <tr>\n",
       "      <th>Case Number.2</th>\n",
       "      <td>0</td>\n",
       "      <td>0.000000</td>\n",
       "    </tr>\n",
       "    <tr>\n",
       "      <th>original order</th>\n",
       "      <td>0</td>\n",
       "      <td>0.000000</td>\n",
       "    </tr>\n",
       "    <tr>\n",
       "      <th>Type</th>\n",
       "      <td>0</td>\n",
       "      <td>0.000000</td>\n",
       "    </tr>\n",
       "    <tr>\n",
       "      <th>Year</th>\n",
       "      <td>0</td>\n",
       "      <td>0.000000</td>\n",
       "    </tr>\n",
       "    <tr>\n",
       "      <th>Date</th>\n",
       "      <td>0</td>\n",
       "      <td>0.000000</td>\n",
       "    </tr>\n",
       "    <tr>\n",
       "      <th>Case Number</th>\n",
       "      <td>0</td>\n",
       "      <td>0.000000</td>\n",
       "    </tr>\n",
       "  </tbody>\n",
       "</table>\n",
       "</div>"
      ],
      "text/plain": [
       "                        Number of NA  Percent of NA\n",
       "Unnamed: 22                     5991      99.983311\n",
       "Unnamed: 23                     5990      99.966622\n",
       "Time                            3213      53.621495\n",
       "Species                         2934      48.965287\n",
       "Age                             2681      44.742991\n",
       "Sex                              567       9.462617\n",
       "Activity                         527       8.795060\n",
       "Location                         496       8.277704\n",
       "Area                             402       6.708945\n",
       "Name                             200       3.337784\n",
       "Country                           43       0.717623\n",
       "Injury                            27       0.450601\n",
       "Fatal (Y/N)                       19       0.317089\n",
       "Investigator or Source            15       0.250334\n",
       "href                               3       0.050067\n",
       "href formula                       1       0.016689\n",
       "pdf                                0       0.000000\n",
       "Case Number.1                      0       0.000000\n",
       "Case Number.2                      0       0.000000\n",
       "original order                     0       0.000000\n",
       "Type                               0       0.000000\n",
       "Year                               0       0.000000\n",
       "Date                               0       0.000000\n",
       "Case Number                        0       0.000000"
      ]
     },
     "execution_count": 9,
     "metadata": {},
     "output_type": "execute_result"
    }
   ],
   "source": [
    "percent_NA(sharks)"
   ]
  },
  {
   "cell_type": "markdown",
   "metadata": {},
   "source": [
    "## Step 2 - `CLEANING`\n",
    "\n",
    "Now that we have a better understanding of the data set, we can begin organising it and make it more understandable. "
   ]
  },
  {
   "cell_type": "markdown",
   "metadata": {},
   "source": [
    "### 2.1 Begin by tackling the **column names**. "
   ]
  },
  {
   "cell_type": "code",
   "execution_count": 10,
   "metadata": {},
   "outputs": [
    {
     "data": {
      "text/plain": [
       "Index(['Case Number', 'Date', 'Year', 'Type', 'Country', 'Area', 'Location',\n",
       "       'Activity', 'Name', 'Sex ', 'Age', 'Injury', 'Fatal (Y/N)', 'Time',\n",
       "       'Species ', 'Investigator or Source', 'pdf', 'href formula', 'href',\n",
       "       'Case Number.1', 'Case Number.2', 'original order', 'Unnamed: 22',\n",
       "       'Unnamed: 23'],\n",
       "      dtype='object')"
      ]
     },
     "execution_count": 10,
     "metadata": {},
     "output_type": "execute_result"
    }
   ],
   "source": [
    "sharks.columns"
   ]
  },
  {
   "cell_type": "code",
   "execution_count": 11,
   "metadata": {},
   "outputs": [],
   "source": [
    "def clean_col(data):\n",
    "    \n",
    "    '''\n",
    "    Fixes all the messy column names by removing dots, whites spaces and using lower case\n",
    "    '''\n",
    "\n",
    "    col_clean = []\n",
    "    \n",
    "    for col in data.columns:\n",
    "        col = col.strip().lower()\n",
    "        col = col.replace('.',' ')\n",
    "        col_clean.append(col)\n",
    "        \n",
    "    data.columns = col_clean\n",
    "    \n",
    "    return data.columns"
   ]
  },
  {
   "cell_type": "code",
   "execution_count": 12,
   "metadata": {},
   "outputs": [
    {
     "data": {
      "text/plain": [
       "Index(['case number', 'date', 'year', 'type', 'country', 'area', 'location',\n",
       "       'activity', 'name', 'sex', 'age', 'injury', 'fatal (y/n)', 'time',\n",
       "       'species', 'investigator or source', 'pdf', 'href formula', 'href',\n",
       "       'case number 1', 'case number 2', 'original order', 'unnamed: 22',\n",
       "       'unnamed: 23'],\n",
       "      dtype='object')"
      ]
     },
     "execution_count": 12,
     "metadata": {},
     "output_type": "execute_result"
    }
   ],
   "source": [
    "clean_col(sharks)"
   ]
  },
  {
   "cell_type": "markdown",
   "metadata": {},
   "source": [
    "### 2.2 Delete `unexpected` rows and columns that don’t fit your analysis "
   ]
  },
  {
   "cell_type": "code",
   "execution_count": 13,
   "metadata": {
    "scrolled": true
   },
   "outputs": [],
   "source": [
    "to_drop = [  'case number',\n",
    "             'area',\n",
    "             'location',\n",
    "             'name',\n",
    "             'injury',\n",
    "             'time',\n",
    "             'species',\n",
    "             'investigator or source',\n",
    "             'pdf',\n",
    "             'href formula',\n",
    "             'href',\n",
    "             'case number 1',\n",
    "             'case number 2', \n",
    "             'original order', \n",
    "             'unnamed: 22', \n",
    "             'unnamed: 23']\n",
    "\n",
    "sharks = sharks.drop(to_drop, axis=1)"
   ]
  },
  {
   "cell_type": "code",
   "execution_count": 14,
   "metadata": {},
   "outputs": [
    {
     "data": {
      "text/plain": [
       "(5992, 8)"
      ]
     },
     "execution_count": 14,
     "metadata": {},
     "output_type": "execute_result"
    }
   ],
   "source": [
    "sharks.shape"
   ]
  },
  {
   "cell_type": "markdown",
   "metadata": {},
   "source": [
    "### 2.3 Check for `Incorrect` and `Inconsistent` values in the table\n",
    "\n",
    "Use value_counts() to get a glimpse of some of the issues with each column"
   ]
  },
  {
   "cell_type": "code",
   "execution_count": 15,
   "metadata": {
    "scrolled": true
   },
   "outputs": [
    {
     "name": "stdout",
     "output_type": "stream",
     "text": [
      "1957         11\n",
      "1942          9\n",
      "1956          8\n",
      "1950          7\n",
      "1958          7\n",
      "             ..\n",
      "05-Sep-00     1\n",
      "28-Feb-78     1\n",
      "09-Feb-27     1\n",
      "02-Jun-95     1\n",
      "03-May-16     1\n",
      "Name: date, Length: 5128, dtype: int64\n",
      "2015    139\n",
      "2011    128\n",
      "2014    125\n",
      "0       124\n",
      "2013    122\n",
      "       ... \n",
      "1742      1\n",
      "1758      1\n",
      "1818      1\n",
      "1822      1\n",
      "1595      1\n",
      "Name: year, Length: 232, dtype: int64\n",
      "Unprovoked      4386\n",
      "Provoked         557\n",
      "Invalid          519\n",
      "Sea Disaster     220\n",
      "Boat             200\n",
      "Boating          110\n",
      "Name: type, dtype: int64\n",
      "USA                         2116\n",
      "AUSTRALIA                   1279\n",
      "SOUTH AFRICA                 565\n",
      "PAPUA NEW GUINEA             133\n",
      "NEW ZEALAND                  125\n",
      "                            ... \n",
      "ARGENTINA                      1\n",
      "JAVA                           1\n",
      "MID-PACIFC OCEAN               1\n",
      "SLOVENIA                       1\n",
      "Between PORTUGAL & INDIA       1\n",
      "Name: country, Length: 203, dtype: int64\n",
      "Surfing                                                                                                                    904\n",
      "Swimming                                                                                                                   819\n",
      "Fishing                                                                                                                    414\n",
      "Spearfishing                                                                                                               321\n",
      "Bathing                                                                                                                    153\n",
      "                                                                                                                          ... \n",
      "British ship, Britannia,  was loading lumber. He was bathing                                                                 1\n",
      "The 21,516-ton troopship Empress of Canada torpedoed and sunk by the Italian submarine Leonardo da Vinci                     1\n",
      "The Ward liner Esperanza stranded during a gale & she leapt overboard to rescue her dog which had been swept overboard.      1\n",
      "a corsair's boat was overturned                                                                                              1\n",
      "Free diving but treading water at surface                                                                                    1\n",
      "Name: activity, Length: 1492, dtype: int64\n",
      "M      4835\n",
      "F       585\n",
      "M         2\n",
      "lli       1\n",
      "N         1\n",
      ".         1\n",
      "Name: sex, dtype: int64\n",
      "17          148\n",
      "18          145\n",
      "19          138\n",
      "20          136\n",
      "15          135\n",
      "           ... \n",
      "17 & 16       1\n",
      "72            1\n",
      "18 or 20      1\n",
      "9 months      1\n",
      "67            1\n",
      "Name: age, Length: 151, dtype: int64\n",
      "N          4315\n",
      "Y          1552\n",
      "UNKNOWN      94\n",
      " N            8\n",
      "n             1\n",
      "N             1\n",
      "F             1\n",
      "#VALUE!       1\n",
      "Name: fatal (y/n), dtype: int64\n"
     ]
    }
   ],
   "source": [
    "for i in sharks.columns:\n",
    "    column_check = sharks[i].value_counts()\n",
    "    print(column_check)   "
   ]
  },
  {
   "cell_type": "markdown",
   "metadata": {},
   "source": [
    "A few examples of issues that can be found in the results are:\n",
    "\n",
    "- **date**: different lenghts and types of date formats\n",
    "- **year**: different lengths (<4 digits) and value 0 \n",
    "- **type**: inconsistent with Provoked/Unprovoked\n",
    "- **country**: inconsistent with name of the country\n",
    "- **activity**: unexpected large strings instead of categories\n",
    "- **sex**: unexpected values besides M/F\n",
    "- **age**: unexpected values besides 2 or max 3 digits\n",
    "- **fatal**: inconsistent values with boolean logic (Y/N)"
   ]
  },
  {
   "cell_type": "markdown",
   "metadata": {},
   "source": [
    "### 2.4 Deep Cleaning Time\n",
    "\n",
    "It is now time to start tackling each issue individually and update the results in our DF.\n"
   ]
  },
  {
   "cell_type": "markdown",
   "metadata": {},
   "source": [
    "- 2.4.1 Collect data from **DATE** to analyse **attacks per month**:"
   ]
  },
  {
   "cell_type": "code",
   "execution_count": 25,
   "metadata": {},
   "outputs": [],
   "source": [
    "# Creating a new month column and inserting in the dataframe. \n",
    "\n",
    "col_month = []\n",
    "\n",
    "for row in sharks['date']:\n",
    "    month_row = ''.join(re.findall('\\-[A-Za-z]{3}\\-',row)).lower()\n",
    "    month_row = re.sub('\\-','',month_row)\n",
    "        \n",
    "        \n",
    "# If month doesn't exist, the field will be filled with NaN.\n",
    "        \n",
    "    if month_row == '':\n",
    "        month_row = np.nan\n",
    "\n",
    "    col_month.append(month_row)\n",
    "    "
   ]
  },
  {
   "cell_type": "code",
   "execution_count": 26,
   "metadata": {},
   "outputs": [
    {
     "data": {
      "text/plain": [
       "NaN       870\n",
       "jul       590\n",
       "aug       537\n",
       "sep       491\n",
       "jan       476\n",
       "jun       453\n",
       "dec       397\n",
       "oct       385\n",
       "apr       375\n",
       "mar       367\n",
       "nov       365\n",
       "may       344\n",
       "feb       335\n",
       "marmar      2\n",
       "sepsep      1\n",
       "novnov      1\n",
       "janjan      1\n",
       "jut         1\n",
       "augaug      1\n",
       "Name: month, dtype: int64"
      ]
     },
     "execution_count": 26,
     "metadata": {},
     "output_type": "execute_result"
    }
   ],
   "source": [
    "# Adding column MONTH and changing column order so it shows up next to date\n",
    "\n",
    "sharks['month'] = col_month\n",
    "\n",
    "column_order = ['date','month', 'year', 'type', 'country', 'activity', 'sex', 'age', 'fatal (y/n)']\n",
    "\n",
    "sharks = sharks[column_order]\n",
    "\n",
    "# Check how the new column looks and what's missing to be cleaned\n",
    "\n",
    "sharks['month'].value_counts(dropna=False) "
   ]
  },
  {
   "cell_type": "code",
   "execution_count": 27,
   "metadata": {},
   "outputs": [],
   "source": [
    "# Drop NaN values from the month column\n",
    "\n",
    "sharks.dropna(subset=['month'], inplace=True)"
   ]
  },
  {
   "cell_type": "code",
   "execution_count": 28,
   "metadata": {},
   "outputs": [],
   "source": [
    "# Correct the strings that contain the duplicated error by only considering the 3 first letters\n",
    "\n",
    "for row in sharks['month']:\n",
    "    if len(row) > 3:\n",
    "        sharks['month'].replace(row,row[:3], inplace=True)\n",
    "    elif row == 'jut':\n",
    "        sharks['month'].replace(row,'jun', inplace=True)"
   ]
  },
  {
   "cell_type": "code",
   "execution_count": 29,
   "metadata": {},
   "outputs": [
    {
     "data": {
      "text/plain": [
       "array(['sep', 'aug', 'jul', 'jun', 'may', 'apr', 'mar', 'feb', 'jan',\n",
       "       'dec', 'nov', 'oct'], dtype=object)"
      ]
     },
     "execution_count": 29,
     "metadata": {},
     "output_type": "execute_result"
    }
   ],
   "source": [
    "pd.unique(sharks['month'])"
   ]
  },
  {
   "cell_type": "markdown",
   "metadata": {},
   "source": [
    "- 2.4.2 Clean the column **SEX** to analyse **distribution of attacks per gender**:"
   ]
  },
  {
   "cell_type": "code",
   "execution_count": 30,
   "metadata": {},
   "outputs": [
    {
     "data": {
      "text/plain": [
       "array(['M', nan, 'F', 'M ', 'lli', 'N', '.'], dtype=object)"
      ]
     },
     "execution_count": 30,
     "metadata": {},
     "output_type": "execute_result"
    }
   ],
   "source": [
    "pd.unique(sharks['sex'])"
   ]
  },
  {
   "cell_type": "code",
   "execution_count": 31,
   "metadata": {},
   "outputs": [],
   "source": [
    "# This function will take all the values and check if they are M or F, otherwise replace as NaN\n",
    "\n",
    "def sex_clean(sex):\n",
    "\n",
    "    if sex == 'M' or sex == 'F':\n",
    "        return sex\n",
    "    else:\n",
    "        return np.nan  "
   ]
  },
  {
   "cell_type": "code",
   "execution_count": 32,
   "metadata": {},
   "outputs": [
    {
     "data": {
      "text/plain": [
       "M      4164\n",
       "F       525\n",
       "NaN     433\n",
       "Name: sex, dtype: int64"
      ]
     },
     "execution_count": 32,
     "metadata": {},
     "output_type": "execute_result"
    }
   ],
   "source": [
    "sharks['sex'] = sharks['sex'].apply(sex_clean)\n",
    "sharks['sex'].value_counts(dropna=False) "
   ]
  },
  {
   "cell_type": "markdown",
   "metadata": {},
   "source": [
    "- 2.4.3 Clean the column **AGE** to analyse **distribution of attacks per age**:"
   ]
  },
  {
   "cell_type": "code",
   "execution_count": 33,
   "metadata": {},
   "outputs": [],
   "source": [
    "# This function will take all the values and replace as 0 if they are not integers\n",
    "\n",
    "def age_clean(age):\n",
    "    try:\n",
    "        age = int(age)\n",
    "    except ValueError:\n",
    "        age = 0\n",
    "\n",
    "# Since there are also ranges in AGE, this condition will replace them for NaN values\n",
    "        \n",
    "    if (age > 0 and age <= 100):\n",
    "        return age\n",
    "    else:\n",
    "        return np.nan    "
   ]
  },
  {
   "cell_type": "code",
   "execution_count": 34,
   "metadata": {},
   "outputs": [],
   "source": [
    "# Create a new DF to analyse the AGE data  \n",
    "\n",
    "age_dF = sharks['age'].apply(age_clean)"
   ]
  },
  {
   "cell_type": "markdown",
   "metadata": {},
   "source": [
    "- 2.4.4 Clean the column **FATAL** to analyse **fatality of the attacks**:"
   ]
  },
  {
   "cell_type": "code",
   "execution_count": 35,
   "metadata": {},
   "outputs": [],
   "source": [
    "# This function will take all the values and check if Y or N, otherwise replace with NaN\n",
    "\n",
    "def fatal_clean(fatal):\n",
    "    if fatal == 'N' or fatal == 'Y':\n",
    "        return fatal\n",
    "    else:\n",
    "        return np.nan"
   ]
  },
  {
   "cell_type": "code",
   "execution_count": 36,
   "metadata": {},
   "outputs": [
    {
     "data": {
      "text/plain": [
       "N      3784\n",
       "Y      1256\n",
       "NaN      82\n",
       "Name: fatal (y/n), dtype: int64"
      ]
     },
     "execution_count": 36,
     "metadata": {},
     "output_type": "execute_result"
    }
   ],
   "source": [
    "sharks['fatal (y/n)'] = sharks['fatal (y/n)'].apply(fatal_clean)   \n",
    "sharks['fatal (y/n)'].value_counts(dropna=False) "
   ]
  },
  {
   "cell_type": "markdown",
   "metadata": {},
   "source": [
    "## Step 3 - `Verifying`\n",
    "\n",
    "After having organised and cleaned the data set, the last step is to inspect the results to verify correctness. \n"
   ]
  },
  {
   "cell_type": "code",
   "execution_count": 37,
   "metadata": {},
   "outputs": [
    {
     "data": {
      "text/plain": [
       "(5122, 9)"
      ]
     },
     "execution_count": 37,
     "metadata": {},
     "output_type": "execute_result"
    }
   ],
   "source": [
    "sharks.shape"
   ]
  },
  {
   "cell_type": "code",
   "execution_count": 38,
   "metadata": {
    "scrolled": true
   },
   "outputs": [
    {
     "name": "stdout",
     "output_type": "stream",
     "text": [
      "<class 'pandas.core.frame.DataFrame'>\n",
      "Int64Index: 5122 entries, 0 to 5980\n",
      "Data columns (total 9 columns):\n",
      "date           5122 non-null object\n",
      "month          5122 non-null object\n",
      "year           5122 non-null int64\n",
      "type           5122 non-null object\n",
      "country        5097 non-null object\n",
      "activity       4751 non-null object\n",
      "sex            4689 non-null object\n",
      "age            3139 non-null object\n",
      "fatal (y/n)    5040 non-null object\n",
      "dtypes: int64(1), object(8)\n",
      "memory usage: 400.2+ KB\n"
     ]
    }
   ],
   "source": [
    "sharks.info()"
   ]
  },
  {
   "cell_type": "code",
   "execution_count": 39,
   "metadata": {
    "scrolled": true
   },
   "outputs": [
    {
     "data": {
      "text/html": [
       "<div>\n",
       "<style scoped>\n",
       "    .dataframe tbody tr th:only-of-type {\n",
       "        vertical-align: middle;\n",
       "    }\n",
       "\n",
       "    .dataframe tbody tr th {\n",
       "        vertical-align: top;\n",
       "    }\n",
       "\n",
       "    .dataframe thead th {\n",
       "        text-align: right;\n",
       "    }\n",
       "</style>\n",
       "<table border=\"1\" class=\"dataframe\">\n",
       "  <thead>\n",
       "    <tr style=\"text-align: right;\">\n",
       "      <th></th>\n",
       "      <th>date</th>\n",
       "      <th>month</th>\n",
       "      <th>year</th>\n",
       "      <th>type</th>\n",
       "      <th>country</th>\n",
       "      <th>activity</th>\n",
       "      <th>sex</th>\n",
       "      <th>age</th>\n",
       "      <th>fatal (y/n)</th>\n",
       "    </tr>\n",
       "  </thead>\n",
       "  <tbody>\n",
       "    <tr>\n",
       "      <th>0</th>\n",
       "      <td>18-Sep-16</td>\n",
       "      <td>sep</td>\n",
       "      <td>2016</td>\n",
       "      <td>Unprovoked</td>\n",
       "      <td>USA</td>\n",
       "      <td>Surfing</td>\n",
       "      <td>M</td>\n",
       "      <td>16</td>\n",
       "      <td>N</td>\n",
       "    </tr>\n",
       "    <tr>\n",
       "      <th>1</th>\n",
       "      <td>18-Sep-16</td>\n",
       "      <td>sep</td>\n",
       "      <td>2016</td>\n",
       "      <td>Unprovoked</td>\n",
       "      <td>USA</td>\n",
       "      <td>Surfing</td>\n",
       "      <td>M</td>\n",
       "      <td>36</td>\n",
       "      <td>N</td>\n",
       "    </tr>\n",
       "    <tr>\n",
       "      <th>2</th>\n",
       "      <td>18-Sep-16</td>\n",
       "      <td>sep</td>\n",
       "      <td>2016</td>\n",
       "      <td>Unprovoked</td>\n",
       "      <td>USA</td>\n",
       "      <td>Surfing</td>\n",
       "      <td>M</td>\n",
       "      <td>43</td>\n",
       "      <td>N</td>\n",
       "    </tr>\n",
       "    <tr>\n",
       "      <th>3</th>\n",
       "      <td>17-Sep-16</td>\n",
       "      <td>sep</td>\n",
       "      <td>2016</td>\n",
       "      <td>Unprovoked</td>\n",
       "      <td>AUSTRALIA</td>\n",
       "      <td>Surfing</td>\n",
       "      <td>M</td>\n",
       "      <td>NaN</td>\n",
       "      <td>N</td>\n",
       "    </tr>\n",
       "    <tr>\n",
       "      <th>4</th>\n",
       "      <td>16-Sep-16</td>\n",
       "      <td>sep</td>\n",
       "      <td>2016</td>\n",
       "      <td>Unprovoked</td>\n",
       "      <td>AUSTRALIA</td>\n",
       "      <td>Surfing</td>\n",
       "      <td>M</td>\n",
       "      <td>NaN</td>\n",
       "      <td>N</td>\n",
       "    </tr>\n",
       "  </tbody>\n",
       "</table>\n",
       "</div>"
      ],
      "text/plain": [
       "        date month  year        type    country activity sex  age fatal (y/n)\n",
       "0  18-Sep-16   sep  2016  Unprovoked        USA  Surfing   M   16           N\n",
       "1  18-Sep-16   sep  2016  Unprovoked        USA  Surfing   M   36           N\n",
       "2  18-Sep-16   sep  2016  Unprovoked        USA  Surfing   M   43           N\n",
       "3  17-Sep-16   sep  2016  Unprovoked  AUSTRALIA  Surfing   M  NaN           N\n",
       "4  16-Sep-16   sep  2016  Unprovoked  AUSTRALIA  Surfing   M  NaN           N"
      ]
     },
     "execution_count": 39,
     "metadata": {},
     "output_type": "execute_result"
    }
   ],
   "source": [
    "# Check for potential anomalies in the clean data set\n",
    "\n",
    "sharks.head()"
   ]
  },
  {
   "cell_type": "code",
   "execution_count": 40,
   "metadata": {},
   "outputs": [
    {
     "data": {
      "text/plain": [
       "2015    138\n",
       "2011    127\n",
       "2014    122\n",
       "2013    122\n",
       "2009    119\n",
       "       ... \n",
       "1787      1\n",
       "1807      1\n",
       "1819      1\n",
       "1827      1\n",
       "1742      1\n",
       "Name: year, Length: 200, dtype: int64"
      ]
     },
     "execution_count": 40,
     "metadata": {},
     "output_type": "execute_result"
    }
   ],
   "source": [
    "sharks['year'].value_counts(dropna=False)"
   ]
  },
  {
   "cell_type": "code",
   "execution_count": 41,
   "metadata": {},
   "outputs": [
    {
     "data": {
      "text/plain": [
       "date           object\n",
       "month          object\n",
       "year            int64\n",
       "type           object\n",
       "country        object\n",
       "activity       object\n",
       "sex            object\n",
       "age            object\n",
       "fatal (y/n)    object\n",
       "dtype: object"
      ]
     },
     "execution_count": 41,
     "metadata": {},
     "output_type": "execute_result"
    }
   ],
   "source": [
    "sharks.dtypes"
   ]
  },
  {
   "cell_type": "markdown",
   "metadata": {},
   "source": [
    "- Final step is to export the clean dataset as a csv file so it can be thoroughly analysed "
   ]
  },
  {
   "cell_type": "code",
   "execution_count": 42,
   "metadata": {},
   "outputs": [],
   "source": [
    "sharks.to_csv(\"./sharks_clean.csv\", index = False)"
   ]
  }
 ],
 "metadata": {
  "kernelspec": {
   "display_name": "Python 3",
   "language": "python",
   "name": "python3"
  },
  "language_info": {
   "codemirror_mode": {
    "name": "ipython",
    "version": 3
   },
   "file_extension": ".py",
   "mimetype": "text/x-python",
   "name": "python",
   "nbconvert_exporter": "python",
   "pygments_lexer": "ipython3",
   "version": "3.7.5"
  }
 },
 "nbformat": 4,
 "nbformat_minor": 2
}
